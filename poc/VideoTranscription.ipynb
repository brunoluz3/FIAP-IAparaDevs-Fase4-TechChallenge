{
 "cells": [
  {
   "cell_type": "code",
   "execution_count": 3,
   "id": "0ebefa04",
   "metadata": {},
   "outputs": [
    {
     "name": "stdout",
     "output_type": "stream",
     "text": [
      "Collecting moviepy\n",
      "  Using cached moviepy-2.2.1-py3-none-any.whl.metadata (6.9 kB)\n",
      "Requirement already satisfied: decorator<6.0,>=4.0.2 in c:\\users\\luzbr\\documents\\fiap\\pos-iaparadevs\\fase4\\techchallenge\\fase4techchallenge\\fiap-iaparadevs-fase4-techchallenge\\.venv\\lib\\site-packages (from moviepy) (5.2.1)\n",
      "Collecting imageio<3.0,>=2.5 (from moviepy)\n",
      "  Using cached imageio-2.37.0-py3-none-any.whl.metadata (5.2 kB)\n",
      "Collecting imageio_ffmpeg>=0.2.0 (from moviepy)\n",
      "  Using cached imageio_ffmpeg-0.6.0-py3-none-win_amd64.whl.metadata (1.5 kB)\n",
      "Requirement already satisfied: numpy>=1.25.0 in c:\\users\\luzbr\\documents\\fiap\\pos-iaparadevs\\fase4\\techchallenge\\fase4techchallenge\\fiap-iaparadevs-fase4-techchallenge\\.venv\\lib\\site-packages (from moviepy) (2.1.3)\n",
      "Collecting proglog<=1.0.0 (from moviepy)\n",
      "  Using cached proglog-0.1.12-py3-none-any.whl.metadata (794 bytes)\n",
      "Requirement already satisfied: python-dotenv>=0.10 in c:\\users\\luzbr\\documents\\fiap\\pos-iaparadevs\\fase4\\techchallenge\\fase4techchallenge\\fiap-iaparadevs-fase4-techchallenge\\.venv\\lib\\site-packages (from moviepy) (1.1.1)\n",
      "Requirement already satisfied: pillow<12.0,>=9.2.0 in c:\\users\\luzbr\\documents\\fiap\\pos-iaparadevs\\fase4\\techchallenge\\fase4techchallenge\\fiap-iaparadevs-fase4-techchallenge\\.venv\\lib\\site-packages (from moviepy) (11.3.0)\n",
      "Requirement already satisfied: tqdm in c:\\users\\luzbr\\documents\\fiap\\pos-iaparadevs\\fase4\\techchallenge\\fase4techchallenge\\fiap-iaparadevs-fase4-techchallenge\\.venv\\lib\\site-packages (from proglog<=1.0.0->moviepy) (4.67.1)\n",
      "Requirement already satisfied: colorama in c:\\users\\luzbr\\documents\\fiap\\pos-iaparadevs\\fase4\\techchallenge\\fase4techchallenge\\fiap-iaparadevs-fase4-techchallenge\\.venv\\lib\\site-packages (from tqdm->proglog<=1.0.0->moviepy) (0.4.6)\n",
      "Using cached moviepy-2.2.1-py3-none-any.whl (129 kB)\n",
      "Using cached imageio-2.37.0-py3-none-any.whl (315 kB)\n",
      "Using cached proglog-0.1.12-py3-none-any.whl (6.3 kB)\n",
      "Using cached imageio_ffmpeg-0.6.0-py3-none-win_amd64.whl (31.2 MB)\n",
      "Installing collected packages: imageio_ffmpeg, imageio, proglog, moviepy\n",
      "\n",
      "   ---------------------------------------- 0/4 [imageio_ffmpeg]\n",
      "   ---------------------------------------- 0/4 [imageio_ffmpeg]\n",
      "   ---------------------------------------- 0/4 [imageio_ffmpeg]\n",
      "   ---------------------------------------- 0/4 [imageio_ffmpeg]\n",
      "   ---------- ----------------------------- 1/4 [imageio]\n",
      "   ---------- ----------------------------- 1/4 [imageio]\n",
      "   ---------- ----------------------------- 1/4 [imageio]\n",
      "   ---------- ----------------------------- 1/4 [imageio]\n",
      "   ---------- ----------------------------- 1/4 [imageio]\n",
      "   ---------- ----------------------------- 1/4 [imageio]\n",
      "   ---------- ----------------------------- 1/4 [imageio]\n",
      "   -------------------- ------------------- 2/4 [proglog]\n",
      "   ------------------------------ --------- 3/4 [moviepy]\n",
      "   ------------------------------ --------- 3/4 [moviepy]\n",
      "   ------------------------------ --------- 3/4 [moviepy]\n",
      "   ------------------------------ --------- 3/4 [moviepy]\n",
      "   ------------------------------ --------- 3/4 [moviepy]\n",
      "   ------------------------------ --------- 3/4 [moviepy]\n",
      "   ------------------------------ --------- 3/4 [moviepy]\n",
      "   ---------------------------------------- 4/4 [moviepy]\n",
      "\n",
      "Successfully installed imageio-2.37.0 imageio_ffmpeg-0.6.0 moviepy-2.2.1 proglog-0.1.12\n",
      "Note: you may need to restart the kernel to use updated packages.\n"
     ]
    }
   ],
   "source": [
    "pip install moviepy"
   ]
  },
  {
   "cell_type": "code",
   "execution_count": 1,
   "id": "0a2b9f0b",
   "metadata": {},
   "outputs": [],
   "source": [
    "from dotenv import load_dotenv\n",
    "from openai import OpenAI\n",
    "from moviepy import VideoFileClip\n",
    "import boto3\n",
    "import os"
   ]
  },
  {
   "cell_type": "code",
   "execution_count": 2,
   "id": "7cd7b1ba",
   "metadata": {},
   "outputs": [],
   "source": [
    "load_dotenv()\n",
    "\n",
    "client = OpenAI(api_key=os.environ.get('OPENAI_API_KEY'))\n",
    "\n",
    "comprehend = boto3.client(\"comprehend\", region_name=\"us-east-2\")"
   ]
  },
  {
   "cell_type": "code",
   "execution_count": 3,
   "id": "3adda99d",
   "metadata": {},
   "outputs": [
    {
     "name": "stdout",
     "output_type": "stream",
     "text": [
      "MoviePy - Writing audio in audio.mp3\n"
     ]
    },
    {
     "name": "stderr",
     "output_type": "stream",
     "text": [
      "                                                                   "
     ]
    },
    {
     "name": "stdout",
     "output_type": "stream",
     "text": [
      "MoviePy - Done.\n"
     ]
    },
    {
     "name": "stderr",
     "output_type": "stream",
     "text": [
      "\r"
     ]
    }
   ],
   "source": [
    "video_path = \"VideoTesteTranscricao.mp4\"\n",
    "\n",
    "clip = VideoFileClip(video_path)\n",
    "clip.audio.write_audiofile(\"audio.mp3\")"
   ]
  },
  {
   "cell_type": "code",
   "execution_count": 4,
   "id": "e62cd465",
   "metadata": {},
   "outputs": [
    {
     "name": "stdout",
     "output_type": "stream",
     "text": [
      "Fazendo vídeo de teste para validar a transcrição.\n"
     ]
    }
   ],
   "source": [
    "audio_file_path = 'audio.mp3'\n",
    "\n",
    "audio_file= open(audio_file_path, \"rb\")\n",
    "transcription = client.audio.transcriptions.create(\n",
    "  model=\"whisper-1\", \n",
    "  file=audio_file\n",
    ")\n",
    "print(transcription.text)\n",
    "\n",
    "text_file = open(\"texto.txt\", \"w\", encoding=\"utf-8\")\n",
    "text_file.write(transcription.text)\n",
    "text_file.close()"
   ]
  },
  {
   "cell_type": "code",
   "execution_count": 5,
   "id": "8f4b7d4f",
   "metadata": {},
   "outputs": [
    {
     "name": "stdout",
     "output_type": "stream",
     "text": [
      "Sentimento do texto: NEUTRAL\n"
     ]
    }
   ],
   "source": [
    "with open(\"texto.txt\", \"r\", encoding=\"utf-8\") as file:\n",
    "    text = file.read()\n",
    "\n",
    "sentiment_response = comprehend.detect_sentiment(\n",
    "    Text = text[:5000],\n",
    "    LanguageCode=\"pt\"\n",
    ")\n",
    "\n",
    "sentiment = sentiment_response[\"Sentiment\"]\n",
    "print(f\"Sentimento do texto: {sentiment}\")\n",
    "\n",
    "text_file = open(\"sentimento.txt\", \"w\", encoding=\"utf-8\")\n",
    "text_file.write(sentiment)\n",
    "text_file.close()\n",
    "\n",
    "\n",
    "\n"
   ]
  }
 ],
 "metadata": {
  "kernelspec": {
   "display_name": ".venv",
   "language": "python",
   "name": "python3"
  },
  "language_info": {
   "codemirror_mode": {
    "name": "ipython",
    "version": 3
   },
   "file_extension": ".py",
   "mimetype": "text/x-python",
   "name": "python",
   "nbconvert_exporter": "python",
   "pygments_lexer": "ipython3",
   "version": "3.12.4"
  }
 },
 "nbformat": 4,
 "nbformat_minor": 5
}
