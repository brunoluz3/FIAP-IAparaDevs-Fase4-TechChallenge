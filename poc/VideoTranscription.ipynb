{
 "cells": [
  {
   "cell_type": "code",
   "execution_count": 1,
   "id": "0a2b9f0b",
   "metadata": {},
   "outputs": [],
   "source": [
    "from dotenv import load_dotenv\n",
    "from openai import OpenAI\n",
    "from moviepy import VideoFileClip\n",
    "import boto3\n",
    "import os"
   ]
  },
  {
   "cell_type": "code",
   "execution_count": 7,
   "id": "7cd7b1ba",
   "metadata": {},
   "outputs": [],
   "source": [
    "load_dotenv()\n",
    "\n",
    "client = OpenAI(api_key=os.environ.get('OPENAI_API_KEY'))\n",
    "\n",
    "comprehend = boto3.client(\"comprehend\", region_name=\"us-east-2\")"
   ]
  },
  {
   "cell_type": "code",
   "execution_count": 3,
   "id": "3adda99d",
   "metadata": {},
   "outputs": [
    {
     "name": "stdout",
     "output_type": "stream",
     "text": [
      "MoviePy - Writing audio in audio.mp3\n"
     ]
    },
    {
     "name": "stderr",
     "output_type": "stream",
     "text": [
      "                                                        "
     ]
    },
    {
     "name": "stdout",
     "output_type": "stream",
     "text": [
      "MoviePy - Done.\n"
     ]
    },
    {
     "name": "stderr",
     "output_type": "stream",
     "text": [
      "\r"
     ]
    }
   ],
   "source": [
    "video_path = \"VideoTesteTranscricao.mp4\"\n",
    "\n",
    "clip = VideoFileClip(video_path)\n",
    "clip.audio.write_audiofile(\"audio.mp3\")"
   ]
  },
  {
   "cell_type": "code",
   "execution_count": 4,
   "id": "e62cd465",
   "metadata": {},
   "outputs": [
    {
     "name": "stdout",
     "output_type": "stream",
     "text": [
      "Fazendo vídeo de teste para validar a transcrição.\n"
     ]
    }
   ],
   "source": [
    "audio_file_path = 'audio.mp3'\n",
    "\n",
    "audio_file= open(audio_file_path, \"rb\")\n",
    "transcription = client.audio.transcriptions.create(\n",
    "  model=\"whisper-1\", \n",
    "  file=audio_file\n",
    ")\n",
    "print(transcription.text)\n",
    "\n",
    "text_file = open(\"texto.txt\", \"w\", encoding=\"utf-8\")\n",
    "text_file.write(transcription.text)\n",
    "text_file.close()"
   ]
  },
  {
   "cell_type": "code",
   "execution_count": 9,
   "id": "8f4b7d4f",
   "metadata": {},
   "outputs": [
    {
     "name": "stdout",
     "output_type": "stream",
     "text": [
      "Sentimento do texto: NEUTRAL\n"
     ]
    }
   ],
   "source": [
    "with open(\"texto.txt\", \"r\", encoding=\"utf-8\") as file:\n",
    "    text = file.read()\n",
    "\n",
    "sentiment_response = comprehend.detect_sentiment(\n",
    "    Text = text,\n",
    "    LanguageCode=\"pt\"\n",
    ")\n",
    "\n",
    "sentiment = sentiment_response[\"Sentiment\"]\n",
    "print(f\"Sentimento do texto: {sentiment}\")\n",
    "\n",
    "text_file = open(\"sentimento.txt\", \"w\", encoding=\"utf-8\")\n",
    "text_file.write(sentiment)\n",
    "text_file.close()\n",
    "\n",
    "\n",
    "\n"
   ]
  }
 ],
 "metadata": {
  "kernelspec": {
   "display_name": "venv",
   "language": "python",
   "name": "python3"
  },
  "language_info": {
   "codemirror_mode": {
    "name": "ipython",
    "version": 3
   },
   "file_extension": ".py",
   "mimetype": "text/x-python",
   "name": "python",
   "nbconvert_exporter": "python",
   "pygments_lexer": "ipython3",
   "version": "3.12.4"
  }
 },
 "nbformat": 4,
 "nbformat_minor": 5
}
